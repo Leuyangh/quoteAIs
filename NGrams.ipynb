{
 "cells": [
  {
   "cell_type": "code",
   "execution_count": 1,
   "metadata": {},
   "outputs": [],
   "source": [
    "import pandas as pd\n",
    "import numpy as np\n",
    "from pprint import pprint\n",
    "import pickle\n",
    "import glob, os\n",
    "import nltk\n",
    "from nltk.util import ngrams\n",
    "from nltk import bigrams, trigrams, word_tokenize\n",
    "from collections import Counter, defaultdict\n",
    "import random\n",
    "os.chdir(\"../quoteAIsData\")"
   ]
  },
  {
   "cell_type": "code",
   "execution_count": 2,
   "metadata": {},
   "outputs": [],
   "source": [
    "names = [\"DAVID\", \"DIEGO\", \"ERIC\", \"GWYN\", \"JETT\", \"MARS\", \"MILES\", \"MILO\", \"PARSA\"]\n",
    "def safe_insert_list(dictionary, key, value):\n",
    "    if key in dictionary:\n",
    "        dictionary[key].append(value)\n",
    "    else:\n",
    "        dictionary[key] = list()\n",
    "        dictionary[key].append(value)\n",
    "\n",
    "def safe_insert_dict(dictionary, key, value):\n",
    "    if key not in dictionary:\n",
    "        dictionary[key] = {}\n",
    "    if value not in dictionary[key]:\n",
    "        dictionary[key][value] = 0\n",
    "\n",
    "def line_counts(dictionary):\n",
    "    for key in dictionary:\n",
    "        print(key, len(dictionary[key]))\n",
    "        \n",
    "def getfileOwner(file):\n",
    "    name = file.split('.')[0]\n",
    "    for i in range(0, len(name)):\n",
    "        if name[i].isdigit():\n",
    "            name = name [:i]\n",
    "            break\n",
    "    return name.upper()\n",
    "\n",
    "\n",
    "def print_quotegen(quote_gen):\n",
    "    for k,v  in quote_gen.items():\n",
    "        print(k)\n",
    "        print('\\t',[ (k2,v2) for k2,v2  in v.items()])\n",
    "        \n",
    "def load_quotegen(character):\n",
    "    return pickle.load(open(character + '.pkl', 'rb') )\n"
   ]
  },
  {
   "cell_type": "code",
   "execution_count": 3,
   "metadata": {},
   "outputs": [
    {
     "name": "stdout",
     "output_type": "stream",
     "text": [
      "DAVID 2446\n",
      "DIEGO 3260\n",
      "ERIC 32224\n",
      "GWYN 21457\n",
      "JETT 5554\n",
      "MARS 23434\n",
      "MILES 15062\n",
      "MILO 34714\n",
      "PARSA 9714\n"
     ]
    }
   ],
   "source": [
    "quote_dict = {}\n",
    "for file in glob.glob(\"*.txt\"):\n",
    "    owner = getfileOwner(file)\n",
    "    f = open(file, 'r', encoding=\"utf-8\")\n",
    "    lines = f.read()\n",
    "    lines = lines.split(\"\\n\")\n",
    "    for l in lines:\n",
    "        if l == \"\":\n",
    "            continue\n",
    "        safe_insert_list(quote_dict, owner, l)\n",
    "    f.close()\n",
    "for k in quote_dict:\n",
    "    print(k, len(quote_dict[k]))"
   ]
  },
  {
   "cell_type": "code",
   "execution_count": 4,
   "metadata": {},
   "outputs": [],
   "source": [
    "def make_quotegen(person='PARSA'):   \n",
    "    quote_gen = {}\n",
    "\n",
    "    for sentence in quote_dict[person]:\n",
    "        token = nltk.word_tokenize(sentence)\n",
    "        for w1, w2, w3 in ngrams(token, 3, pad_left = True, pad_right=True):\n",
    "            safe_insert_dict(quote_gen, (w1, w2), w3)\n",
    "            quote_gen[(w1, w2)][w3] += 1\n",
    "    \n",
    "    for w1_w2 in quote_gen:\n",
    "        total_count = float(sum(quote_gen[w1_w2].values()))\n",
    "        for w3 in quote_gen[w1_w2]:\n",
    "            quote_gen[w1_w2][w3] /= total_count\n",
    "\n",
    "    return quote_gen\n",
    "\n",
    "for person in quote_dict:\n",
    "    q = make_quotegen(person)\n",
    "    pickle.dump(q, open(person + '.pkl', 'wb') )"
   ]
  },
  {
   "cell_type": "code",
   "execution_count": 5,
   "metadata": {},
   "outputs": [
    {
     "name": "stdout",
     "output_type": "stream",
     "text": [
      "there once was another type of biome do you bother explaining this to be the best for three of us had to work right ?\n",
      "god damn you mars\n",
      "that 's beautiful dota\n",
      "What the fuck do you want to talk about it ?\n",
      "even if its a grimdark universe\n",
      "where are you watching ?\n",
      "I remember correctly eric does n't then that 's what I said ... I 'm free\n",
      "UBIGAY\n",
      "you know ... the law . Such ideals were hardened in him when I told mars id give him more when he was torn between his homeland and his fucking goal is to make a games platform its not racist\n",
      "free account\n",
      "Do it mars\n",
      "to\n",
      "Choose a spell at an unseemly high level , you will be branded heretics themselves\n",
      "instinct is n't clouded ? this close to 420 ?\n",
      "autumn sale is jrpg\n",
      "KLAN\n",
      "Cuckton is ash and dust . his only flaw is that\n",
      "oh I forgot that was p gud\n",
      "we can see or in back\n",
      "what the party to be had\n"
     ]
    }
   ],
   "source": [
    "def generate_sentence(person):\n",
    "    quote_gen = load_quotegen(person)\n",
    "    text = [None,None]\n",
    "    sentence_finished = False\n",
    "    while not sentence_finished:\n",
    "        r = random.random()\n",
    "        accumulator = .0\n",
    "\n",
    "        for word in quote_gen[tuple(text[-2:])].keys():\n",
    "            accumulator += quote_gen[tuple(text[-2:])][word]\n",
    "\n",
    "            if accumulator >= r:\n",
    "                text.append(word)\n",
    "                break\n",
    "\n",
    "        if text[-2:] == [None,None]:\n",
    "            sentence_finished = True\n",
    "\n",
    "    return ' '.join([t for t in text if t])\n",
    "\n",
    "for i in range(20):\n",
    "    print(generate_sentence('PARSA'))"
   ]
  },
  {
   "cell_type": "code",
   "execution_count": null,
   "metadata": {},
   "outputs": [],
   "source": [
    "for n in names:\n",
    "    print(f\"{n} quotes:\")\n",
    "    for i in range(20):\n",
    "        print('\\t', generate_sentence(n))"
   ]
  },
  {
   "cell_type": "code",
   "execution_count": null,
   "metadata": {},
   "outputs": [],
   "source": []
  }
 ],
 "metadata": {
  "kernelspec": {
   "display_name": "Python 3",
   "language": "python",
   "name": "python3"
  },
  "language_info": {
   "codemirror_mode": {
    "name": "ipython",
    "version": 3
   },
   "file_extension": ".py",
   "mimetype": "text/x-python",
   "name": "python",
   "nbconvert_exporter": "python",
   "pygments_lexer": "ipython3",
   "version": "3.7.4"
  }
 },
 "nbformat": 4,
 "nbformat_minor": 2
}
