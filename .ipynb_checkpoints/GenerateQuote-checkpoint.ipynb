{
 "cells": [
  {
   "cell_type": "code",
   "execution_count": 20,
   "metadata": {},
   "outputs": [],
   "source": [
    "import pickle\n",
    "import pandas as pd\n",
    "import numpy as np\n",
    "import string, os \n",
    "import warnings\n",
    "import h5py\n",
    "\n",
    "from tensorflow.keras.preprocessing.text import Tokenizer\n",
    "from tensorflow.keras.preprocessing.sequence import pad_sequences\n",
    "from numpy import loadtxt\n",
    "from tensorflow.keras.models import load_model\n",
    "#model = load_model('name.h5')\n",
    "\n",
    "from numpy.random import seed\n",
    "import tensorflow\n",
    "tensorflow.random.set_seed(4)\n",
    "seed(20)\n",
    "os.chdir(\"../quoteAIsData\")\n",
    "names = [\"DAVID\", \"DIEGO\", \"ERIC\", \"GWYN\", \"JETT\", \"MARS\", \"MILES\", \"MILO\", \"PARSA\"]"
   ]
  },
  {
   "cell_type": "code",
   "execution_count": 18,
   "metadata": {},
   "outputs": [],
   "source": [
    "def loadToken(name):\n",
    "    tokenizer = pickle.load(open(name + '_tokenizer.pkl', 'rb'))\n",
    "    return tokenizer\n",
    "\n",
    "def loadSequences(name):\n",
    "    file = open(name+'_sequences.txt', 'r', encoding = \"utf-8\")\n",
    "    text = file.read()\n",
    "    file.close()\n",
    "    return text\n",
    "\n",
    "def generateQuotes(name, wordCount, quoteCount):\n",
    "    tokenizer = loadToken(name)\n",
    "    lines = loadSequences(name)\n",
    "    lines = lines.split('\\n')\n",
    "    sequences = tokenizer.texts_to_sequences(lines)\n",
    "    sequences = np.array(sequences)\n",
    "    X, y = sequences[:,:-1], sequences[:,-1]\n",
    "    seq_length = X.shape[1]\n",
    "    model = load_model(name + '_char_word_model.h5')\n",
    "    for i in range(0, quoteCount):\n",
    "        seed_text = lines[np.random.randint(0,len(lines))]\n",
    "        result = list()\n",
    "        for _ in range(wordCount):\n",
    "            # encode the text as integer\n",
    "            encoded = tokenizer.texts_to_sequences([seed_text])[0]\n",
    "            # truncate sequences to a fixed length\n",
    "            encoded = pad_sequences([encoded], maxlen=seq_length, truncating='pre')\n",
    "            # predict probabilities for each word\n",
    "            yhat = model.predict_classes(encoded, verbose=0)\n",
    "            # map predicted word index to word\n",
    "            out_word = ''\n",
    "            for word, index in tokenizer.word_index.items():\n",
    "                if index == yhat:\n",
    "                    out_word = word\n",
    "                    break\n",
    "            # append to input\n",
    "            seed_text += ' ' + out_word\n",
    "            result.append(out_word)\n",
    "        final = ' '.join(result)\n",
    "        print(f'{name}: \"{final}\"')\n",
    "        filename = \"0_Results/\" + name + \".txt\"\n",
    "        file = open(filename, 'a', encoding = 'utf-8')\n",
    "        file.write(\"-\" + final + \"\\n\")"
   ]
  },
  {
   "cell_type": "code",
   "execution_count": 31,
   "metadata": {},
   "outputs": [
    {
     "name": "stdout",
     "output_type": "stream",
     "text": [
      "DAVID: \"be relevant tpain is on pokis stream miles now i can like that scared when he wasnt no is xd\"\n",
      "DAVID: \"uther theres something about the plaguette you should knead oh no its too late these peopleroni have the own one\"\n",
      "DAVID: \"i asked him when it was i know i dont know i dont know what happened i think those of\"\n",
      "DAVID: \"puke simon and garfinkle parsas woke out here calling i was been i nutted a other thing anecdotally pays gibby\"\n",
      "DAVID: \"i dont know what it is he finished it yet not i know youre dead than me i have just\"\n",
      "DAVID: \"need into the reason jk roll him in your polls i show to shake shit back i could forgetti listen\"\n",
      "DAVID: \"stars and seasons or going to watch it was to overcome the slants i was back i would hit that\"\n",
      "DAVID: \"embarrassment but he himself had petitioned against them the students applauded and the world was said where he even curious\"\n",
      "DAVID: \"nothing mars is he was the small ez money i dont like veteran viewers im doesnt a waiter but this\"\n",
      "DAVID: \"do not be the tempo as i the top named i know out in the game plus someone as not\"\n"
     ]
    }
   ],
   "source": [
    "generateQuotes(\"DAVID\", 20, 10)"
   ]
  },
  {
   "cell_type": "code",
   "execution_count": 30,
   "metadata": {},
   "outputs": [
    {
     "name": "stdout",
     "output_type": "stream",
     "text": [
      "DIEGO: \"servers benefits with a statement the whole life memelo me how im ok champs i try the lot of the\"\n",
      "DIEGO: \"to go a full server i dont think it to hot by to just lemme betray me to help me\"\n",
      "DIEGO: \"get the closest daily option lul i was playin to was keeping to yknow this opportunity comes once from the\"\n",
      "DIEGO: \"the dough of the whole life because alberts year nay at guys think me his lunch categories the price i\"\n",
      "DIEGO: \"see the sense for the surface i gave u i bought the basic set im week i was nursing obrien\"\n",
      "DIEGO: \"how youve get to be signing in now i dont genuinely recommend that i can play over i didnt be\"\n",
      "DIEGO: \"rhapsody i are the crows semester though this is franciscos life rather negative contemplating life met wait im a league\"\n",
      "DIEGO: \"i fell asleep towards the mystery selfharm and the bill for rip top fran huh me aaaaaaaaaaaaaaaaaahhhhhhhhhh im here moises\"\n",
      "DIEGO: \"who wants to join me edited previous message i didnt invite me edited previous message i didnt invite me edited\"\n",
      "DIEGO: \"protection play the rewards trip and the car for ax i could a full details for our friends home though\"\n"
     ]
    }
   ],
   "source": [
    "generateQuotes(\"DIEGO\", 20, 10)"
   ]
  },
  {
   "cell_type": "code",
   "execution_count": null,
   "metadata": {},
   "outputs": [],
   "source": []
  }
 ],
 "metadata": {
  "kernelspec": {
   "display_name": "Python 3",
   "language": "python",
   "name": "python3"
  },
  "language_info": {
   "codemirror_mode": {
    "name": "ipython",
    "version": 3
   },
   "file_extension": ".py",
   "mimetype": "text/x-python",
   "name": "python",
   "nbconvert_exporter": "python",
   "pygments_lexer": "ipython3",
   "version": "3.7.4"
  }
 },
 "nbformat": 4,
 "nbformat_minor": 4
}
