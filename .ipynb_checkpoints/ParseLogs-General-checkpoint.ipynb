{
 "cells": [
  {
   "cell_type": "code",
   "execution_count": 1,
   "metadata": {},
   "outputs": [],
   "source": [
    "import datetime\n",
    "import pickle\n",
    "import json\n",
    "import re"
   ]
  },
  {
   "cell_type": "code",
   "execution_count": 2,
   "metadata": {},
   "outputs": [],
   "source": [
    "def writeToFile(filename, message):\n",
    "    f = open(filename, 'a', encoding=\"utf-8\")\n",
    "    f.write(message)\n",
    "    f.close()\n",
    "    \n",
    "\n",
    "def safe_insert(dictionary, key, value):\n",
    "    if key in dictionary:\n",
    "        dictionary[key].append(value)\n",
    "    else:\n",
    "        dictionary[key] = list()\n",
    "        dictionary[key].append(value)"
   ]
  },
  {
   "cell_type": "code",
   "execution_count": 9,
   "metadata": {
    "scrolled": true
   },
   "outputs": [
    {
     "name": "stdout",
     "output_type": "stream",
     "text": [
      "8:live:eric_3116 - niggerfaggot - 17385 messages total\n",
      "19:22adeadd148b4902b5dcc8a4672a19d2@thread.skype - Only Real Negus - 102496 messages total\n",
      "8:recalibrationcomplete - Walt Disney's Immortal Moon Android Assassination Co-conspirtor - 68671 messages total\n",
      "19:7b9fc684514942178102a81697416055@thread.skype - Camp Nigma: 7(?)pm Friday nights PST - 18656 messages total\n",
      "8:milo.amoore - Kappa Pride - 9643 messages total\n",
      "8:parsa.jourx - EXTERMINATUS - 9495 messages total\n",
      "19:725fbafb967541ad8ee4ddad48e422e4@thread.skype - Player Chat: Outpost Santa Monica - 1377 messages total\n",
      "8:live:jettamoore_1 - lame satan - 1462 messages total\n",
      "19:cf931f0ccc2d440d8698f495b7cc9de6@thread.skype - Prologues and Side-Stories - 13098 messages total\n",
      "8:hyperzul - Taluss Athner (Kyle) - 8234 messages total\n",
      "19:7e6b1883906b4d45a76246563e21b282@thread.skype - Dialectic Chat - 4920 messages total\n",
      "19:f7b79f2cc95c4dad90996f32b3854c1b@thread.skype - Carry the Weight - 39873 messages total\n",
      "19:8d89293fc79a490196cf975c1588ae81@thread.skype - The Black Empire Campaign - 6092 messages total\n",
      "19:5dd13c93240f456084553aab9c6ad8a9@thread.skype - Ultra Omega Trihard Camping - 2931 messages total\n",
      "19:8a825e23fb97467ea926484d533ed2cd@thread.skype - Anscilus 2.0 - 2470 messages total\n",
      "19:84acaca0f5514e569a5ad212f0bf02dc@thread.skype - Anscilus - 7614 messages total\n"
     ]
    }
   ],
   "source": [
    "history = json.load(open(\"E:\\Skypelogs\\otherLogs\\messages.json\", \"r\", encoding=\"utf-8\"))\n",
    "\n",
    "trimmedHistory = [conv for conv in history[\"conversations\"] if len(conv['MessageList']) > 1000]\n",
    "for conv in trimmedHistory:\n",
    "    print(f\"{conv['id']} - {conv['displayName']} - {len(conv['MessageList'])} messages total\")"
   ]
  },
  {
   "cell_type": "code",
   "execution_count": 5,
   "metadata": {},
   "outputs": [],
   "source": [
    "personToMessages = {}\n",
    "for conv in trimmedHistory:\n",
    "    messages = conv['MessageList']\n",
    "    for message in messages:\n",
    "        if message[\"messagetype\"] != \"RichText\" or \"<a href\" in message[\"content\"]:\n",
    "            continue\n",
    "        if message[\"displayName\"] == None:\n",
    "            safe_insert(personToMessages, \"Mars\", message[\"content\"])\n",
    "        else:\n",
    "            safe_insert(personToMessages, message[\"displayName\"], message[\"content\"])"
   ]
  },
  {
   "cell_type": "code",
   "execution_count": 11,
   "metadata": {},
   "outputs": [
    {
     "name": "stdout",
     "output_type": "stream",
     "text": [
      "dict_keys(['niggerfaggot', 'Mars', 'Investment Banking Services', \"Miles O'Brien\", 'EXTERMINATUS', 'Kappa Pride', 'lame satan', 'cold hard southern man', 'big cuck', 'Skype Translator', '[B]iles', 'pepe', \"Walt Disney's Immortal Moon Android Assassination Co-conspirtor\", 'Collin Bladez', 'Taluss Athner (Kyle)', 'Kevin P', 'Sʜɪʀᴏ', 'Alix Newton', 'Samuel Dean', 'Naedmas', 'Atlas XV', 'Grimvibes', 'mister belmont', 'Kumon'])\n",
      "niggerfaggot - 25583 messages\n",
      "Mars - 80503 messages\n",
      "Investment Banking Services - 16201 messages\n",
      "Miles O'Brien - 9328 messages\n",
      "EXTERMINATUS - 12675 messages\n",
      "Kappa Pride - 29684 messages\n",
      "lame satan - 6031 messages\n",
      "cold hard southern man - 2194 messages\n",
      "big cuck - 2723 messages\n",
      "[B]iles - 3413 messages\n",
      "Walt Disney's Immortal Moon Android Assassination Co-conspirtor - 42634 messages\n",
      "Taluss Athner (Kyle) - 2209 messages\n"
     ]
    }
   ],
   "source": [
    "print(personToMessages.keys())\n",
    "for person in personToMessages:\n",
    "    if len(personToMessages[person]) > 1000:\n",
    "        print(f\"{person} - {len(personToMessages[person])} messages\")"
   ]
  },
  {
   "cell_type": "code",
   "execution_count": 12,
   "metadata": {
    "scrolled": true
   },
   "outputs": [],
   "source": [
    "trimmedMessages = {\"Eric\" : list(), \"Milo\": list(), \"Jett\": list(), \n",
    "                   \"Mars\": list(), \"Diego\": list(), \"Miles\" : list(), \"Gwyn\": list(), \"Parsa\" : list(), \"David\" : list}\n",
    "trimmedMessages[\"Eric\"] = personToMessages[\"niggerfaggot\"]\n",
    "trimmedMessages[\"Milo\"] = personToMessages[\"Kappa Pride\"]\n",
    "trimmedMessages[\"Jett\"] = personToMessages[\"lame satan\"]\n",
    "trimmedMessages[\"Mars\"] = personToMessages[\"Mars\"]\n",
    "trimmedMessages[\"Diego\"] = personToMessages[\"big cuck\"]\n",
    "trimmedMessages[\"Miles\"] = personToMessages[\"[B]iles\"]\n",
    "trimmedMessages[\"Gwyn\"] = personToMessages[\"Investment Banking Services\"]\n",
    "trimmedMessages[\"Parsa\"] = personToMessages[\"EXTERMINATUS\"]\n",
    "trimmedMessages[\"David\"] = personToMessages[\"cold hard southern man\"]\n",
    "for k in trimmedMessages:\n",
    "    messages = trimmedMessages[k]\n",
    "    for i in range(0, len(messages)):\n",
    "        messages[i] = messages[i].replace(\"&apos;\", \"'\")\n",
    "        messages[i] = messages[i].replace(\"&quot;\", '\"')\n",
    "        messages[i] = re.sub('<.*?>', '', messages[i])\n",
    "logfileBase = \"C:/Users/Eric/Documents/funProjects/memeBots/Data/\"\n",
    "for person in trimmedMessages:\n",
    "    logfile = logfileBase + person + \"2.txt\"\n",
    "    for msg in trimmedMessages[person]:\n",
    "        if msg == \"\":\n",
    "            continue\n",
    "        writeToFile(logfile, msg+\"\\n\")"
   ]
  },
  {
   "cell_type": "code",
   "execution_count": null,
   "metadata": {},
   "outputs": [],
   "source": []
  }
 ],
 "metadata": {
  "kernelspec": {
   "display_name": "Python 3",
   "language": "python",
   "name": "python3"
  },
  "language_info": {
   "codemirror_mode": {
    "name": "ipython",
    "version": 3
   },
   "file_extension": ".py",
   "mimetype": "text/x-python",
   "name": "python",
   "nbconvert_exporter": "python",
   "pygments_lexer": "ipython3",
   "version": "3.7.4"
  }
 },
 "nbformat": 4,
 "nbformat_minor": 2
}
