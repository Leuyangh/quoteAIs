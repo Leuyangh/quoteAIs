{
 "cells": [
  {
   "cell_type": "code",
   "execution_count": null,
   "metadata": {},
   "outputs": [],
   "source": [
    "import datetime\n",
    "import pickle\n",
    "import json\n",
    "import re"
   ]
  },
  {
   "cell_type": "code",
   "execution_count": null,
   "metadata": {},
   "outputs": [],
   "source": [
    "def writeToFile(filename, message):\n",
    "    f = open(filename, 'a', encoding=\"utf-8\")\n",
    "    f.write(message)\n",
    "    f.close()\n",
    "    \n",
    "\n",
    "def safe_insert(dictionary, key, value):\n",
    "    if key in dictionary:\n",
    "        dictionary[key].append(value)\n",
    "    else:\n",
    "        dictionary[key] = list()\n",
    "        dictionary[key].append(value)"
   ]
  },
  {
   "cell_type": "code",
   "execution_count": null,
   "metadata": {
    "scrolled": true
   },
   "outputs": [],
   "source": [
    "history = json.load(open(\"E:\\Skypelogs\\messages.json\", \"r\", encoding=\"utf-8\"))\n",
    "\n",
    "trimmedHistory = [conv for conv in history[\"conversations\"] if len(conv['MessageList']) > 1000]\n",
    "for conv in trimmedHistory:\n",
    "    print(f\"{conv['id']} - {len(conv['MessageList'])} messages total\")"
   ]
  },
  {
   "cell_type": "code",
   "execution_count": null,
   "metadata": {},
   "outputs": [],
   "source": [
    "personToMessages = {}\n",
    "for conv in trimmedHistory:\n",
    "    messages = conv['MessageList']\n",
    "    for message in messages:\n",
    "        if message[\"messagetype\"] != \"RichText\" or \"<a href\" in message[\"content\"]:\n",
    "            continue\n",
    "        if message[\"displayName\"] == None:\n",
    "            safe_insert(personToMessages, \"Eric\", message[\"content\"])\n",
    "        else:\n",
    "            safe_insert(personToMessages, message[\"displayName\"], message[\"content\"])"
   ]
  },
  {
   "cell_type": "code",
   "execution_count": null,
   "metadata": {},
   "outputs": [],
   "source": [
    "for person in personToMessages:\n",
    "    if len(personToMessages[person]) > 1000:\n",
    "        print(f\"{person} - {len(personToMessages[person])} messages\")"
   ]
  },
  {
   "cell_type": "code",
   "execution_count": null,
   "metadata": {
    "scrolled": true
   },
   "outputs": [],
   "source": [
    "trimmedMessages = {\"Eric\" : list(), \"Milo\": list(), \"Jett\": list(), \n",
    "                   \"Mars\": list(), \"Diego\": list(), \"Miles\" : list(), \"Gwyn\": list(), \"Parsa\" : list(), \"David\" : list}\n",
    "trimmedMessages[\"Eric\"] = personToMessages[\"Eric\"]\n",
    "trimmedMessages[\"Milo\"] = personToMessages[\"same.\"]\n",
    "trimmedMessages[\"Jett\"] = personToMessages[\"Jett Amoore\"] + personToMessages[\"inferior same\"]\n",
    "trimmedMessages[\"Mars\"] = personToMessages[\"Same along 2\"]\n",
    "trimmedMessages[\"Diego\"] = personToMessages[\"saame\"]\n",
    "trimmedMessages[\"Miles\"] = personToMessages[\"Miles O'Brien\"]\n",
    "trimmedMessages[\"Gwyn\"] = personToMessages[\"Gwyn Bateman-Shirley\"]\n",
    "trimmedMessages[\"Parsa\"] = personToMessages[\"Parsa Jour\"]\n",
    "trimmedMessages[\"David\"] = personToMessages[\"racist same\"]\n",
    "for k in trimmedMessages:\n",
    "    messages = trimmedMessages[k]\n",
    "    for i in range(0, len(messages)):\n",
    "        messages[i] = messages[i].replace(\"&apos;\", \"'\")\n",
    "        messages[i] = messages[i].replace(\"&quot;\", '\"')\n",
    "        messages[i] = re.sub('<.*?>', '', messages[i])\n",
    "logfileBase = \"C:/Users/Eric/Documents/funProjects/memeBots/Data/\"\n",
    "for person in trimmedMessages:\n",
    "    logfile = logfileBase + person + \".txt\"\n",
    "    for msg in trimmedMessages[person]:\n",
    "        if msg == \"\":\n",
    "            continue\n",
    "        writeToFile(logfile, msg+\"\\n\")"
   ]
  },
  {
   "cell_type": "code",
   "execution_count": null,
   "metadata": {},
   "outputs": [],
   "source": []
  }
 ],
 "metadata": {
  "kernelspec": {
   "display_name": "Python 3",
   "language": "python",
   "name": "python3"
  },
  "language_info": {
   "codemirror_mode": {
    "name": "ipython",
    "version": 3
   },
   "file_extension": ".py",
   "mimetype": "text/x-python",
   "name": "python",
   "nbconvert_exporter": "python",
   "pygments_lexer": "ipython3",
   "version": "3.7.4"
  }
 },
 "nbformat": 4,
 "nbformat_minor": 2
}
