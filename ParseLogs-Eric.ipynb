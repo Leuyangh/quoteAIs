{
 "cells": [
  {
   "cell_type": "code",
   "execution_count": 1,
   "metadata": {},
   "outputs": [],
   "source": [
    "import datetime\n",
    "import pickle\n",
    "import json\n",
    "import re"
   ]
  },
  {
   "cell_type": "code",
   "execution_count": 2,
   "metadata": {},
   "outputs": [],
   "source": [
    "def writeToFile(filename, message):\n",
    "    f = open(filename, 'a', encoding=\"utf-8\")\n",
    "    f.write(message)\n",
    "    f.close()\n",
    "    \n",
    "\n",
    "def safe_insert(dictionary, key, value):\n",
    "    if key in dictionary:\n",
    "        dictionary[key].append(value)\n",
    "    else:\n",
    "        dictionary[key] = list()\n",
    "        dictionary[key].append(value)"
   ]
  },
  {
   "cell_type": "code",
   "execution_count": 3,
   "metadata": {
    "scrolled": true
   },
   "outputs": [
    {
     "name": "stdout",
     "output_type": "stream",
     "text": [
      "8:live:jettamoore_1 - 2036 messages total\n",
      "19:22adeadd148b4902b5dcc8a4672a19d2@thread.skype - 102433 messages total\n",
      "8:parsa.jourx - 10491 messages total\n",
      "8:milo.amoore - 34643 messages total\n",
      "8:mars.speaks - 17347 messages total\n",
      "8:classynoir - 2481 messages total\n",
      "19:7e6b1883906b4d45a76246563e21b282@thread.skype - 4920 messages total\n",
      "19:5dd13c93240f456084553aab9c6ad8a9@thread.skype - 1126 messages total\n",
      "19:8d89293fc79a490196cf975c1588ae81@thread.skype - 6092 messages total\n",
      "19:84acaca0f5514e569a5ad212f0bf02dc@thread.skype - 7614 messages total\n",
      "19:8a825e23fb97467ea926484d533ed2cd@thread.skype - 2470 messages total\n"
     ]
    }
   ],
   "source": [
    "history = json.load(open(\"E:\\Skypelogs\\messages.json\", \"r\", encoding=\"utf-8\"))\n",
    "\n",
    "trimmedHistory = [conv for conv in history[\"conversations\"] if len(conv['MessageList']) > 1000]\n",
    "for conv in trimmedHistory:\n",
    "    print(f\"{conv['id']} - {len(conv['MessageList'])} messages total\")"
   ]
  },
  {
   "cell_type": "code",
   "execution_count": 4,
   "metadata": {},
   "outputs": [],
   "source": [
    "personToMessages = {}\n",
    "for conv in trimmedHistory:\n",
    "    messages = conv['MessageList']\n",
    "    for message in messages:\n",
    "        if message[\"messagetype\"] != \"RichText\" or \"<a href\" in message[\"content\"]:\n",
    "            continue\n",
    "        if message[\"displayName\"] == None:\n",
    "            safe_insert(personToMessages, \"Eric\", message[\"content\"])\n",
    "        else:\n",
    "            safe_insert(personToMessages, message[\"displayName\"], message[\"content\"])"
   ]
  },
  {
   "cell_type": "code",
   "execution_count": 5,
   "metadata": {},
   "outputs": [
    {
     "name": "stdout",
     "output_type": "stream",
     "text": [
      "dict_keys(['Eric', 'Jett Amoore', \"Miles O'Brien\", 'Parsa Jour', 'Same along 2', 'Gwyn Bateman-Shirley', 'same.', 'racist same', 'saame', 'Lau Yan Ho Nathan', 'Soopriz Butsecks', 'Rock Paper Scissors', 'Horoscope', 'Your Face', 'Skype Translator', 'inferior same', 'Kevin!', 'Jessie Humani', 'MemeBot', 'Jennah', 'WEEB-SAME', 'Jeanne Mari Evangelista', 'Kevin P', 'Sʜɪʀᴏ', 'Alix Newton', 'Samuel Dean', 'Philip Kim', 'Atlas XV', 'mister belmont'])\n",
      "Eric - 31798 messages\n",
      "Jett Amoore - 3777 messages\n",
      "Miles O'Brien - 10670 messages\n",
      "Parsa Jour - 9723 messages\n",
      "Same along 2 - 23303 messages\n",
      "Gwyn Bateman-Shirley - 15166 messages\n",
      "same. - 34158 messages\n",
      "racist same - 2165 messages\n",
      "saame - 3077 messages\n",
      "inferior same - 1619 messages\n"
     ]
    }
   ],
   "source": [
    "print(personToMessages.keys())\n",
    "for person in personToMessages:\n",
    "    if len(personToMessages[person]) > 1000:\n",
    "        print(f\"{person} - {len(personToMessages[person])} messages\")"
   ]
  },
  {
   "cell_type": "code",
   "execution_count": 6,
   "metadata": {
    "scrolled": true
   },
   "outputs": [],
   "source": [
    "trimmedMessages = {\"Eric\" : list(), \"Milo\": list(), \"Jett\": list(), \n",
    "                   \"Mars\": list(), \"Diego\": list(), \"Miles\" : list(), \"Gwyn\": list(), \"Parsa\" : list(), \"David\" : list}\n",
    "trimmedMessages[\"Eric\"] = personToMessages[\"Eric\"]\n",
    "trimmedMessages[\"Milo\"] = personToMessages[\"same.\"]\n",
    "trimmedMessages[\"Jett\"] = personToMessages[\"Jett Amoore\"] + personToMessages[\"inferior same\"]\n",
    "trimmedMessages[\"Mars\"] = personToMessages[\"Same along 2\"]\n",
    "trimmedMessages[\"Diego\"] = personToMessages[\"saame\"]\n",
    "trimmedMessages[\"Miles\"] = personToMessages[\"Miles O'Brien\"]\n",
    "trimmedMessages[\"Gwyn\"] = personToMessages[\"Gwyn Bateman-Shirley\"]\n",
    "trimmedMessages[\"Parsa\"] = personToMessages[\"Parsa Jour\"]\n",
    "trimmedMessages[\"David\"] = personToMessages[\"racist same\"]\n",
    "for k in trimmedMessages:\n",
    "    messages = trimmedMessages[k]\n",
    "    for i in range(0, len(messages)):\n",
    "        messages[i] = messages[i].replace(\"&apos;\", \"'\")\n",
    "        messages[i] = messages[i].replace(\"&quot;\", '\"')\n",
    "        messages[i] = re.sub('<.*?>', '', messages[i])\n",
    "logfileBase = \"C:/Users/Eric/Documents/funProjects/memeBots/Data/\"\n",
    "for person in trimmedMessages:\n",
    "    logfile = logfileBase + person + \".txt\"\n",
    "    for msg in trimmedMessages[person]:\n",
    "        if msg == \"\":\n",
    "            continue\n",
    "        writeToFile(logfile, msg+\"\\n\")"
   ]
  },
  {
   "cell_type": "code",
   "execution_count": null,
   "metadata": {},
   "outputs": [],
   "source": []
  }
 ],
 "metadata": {
  "kernelspec": {
   "display_name": "Python 3",
   "language": "python",
   "name": "python3"
  },
  "language_info": {
   "codemirror_mode": {
    "name": "ipython",
    "version": 3
   },
   "file_extension": ".py",
   "mimetype": "text/x-python",
   "name": "python",
   "nbconvert_exporter": "python",
   "pygments_lexer": "ipython3",
   "version": "3.7.4"
  }
 },
 "nbformat": 4,
 "nbformat_minor": 2
}
