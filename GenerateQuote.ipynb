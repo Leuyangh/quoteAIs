{
 "cells": [
  {
   "cell_type": "code",
   "execution_count": 20,
   "metadata": {},
   "outputs": [],
   "source": [
    "import pickle\n",
    "import pandas as pd\n",
    "import numpy as np\n",
    "import string, os \n",
    "import warnings\n",
    "import h5py\n",
    "\n",
    "from tensorflow.keras.preprocessing.text import Tokenizer\n",
    "from tensorflow.keras.preprocessing.sequence import pad_sequences\n",
    "from numpy import loadtxt\n",
    "from tensorflow.keras.models import load_model\n",
    "#model = load_model('name.h5')\n",
    "\n",
    "from numpy.random import seed\n",
    "import tensorflow\n",
    "tensorflow.random.set_seed(4)\n",
    "seed(20)\n",
    "os.chdir(\"../quoteAIsData\")\n",
    "names = [\"DAVID\", \"DIEGO\", \"ERIC\", \"GWYN\", \"JETT\", \"MARS\", \"MILES\", \"MILO\", \"PARSA\"]"
   ]
  },
  {
   "cell_type": "code",
   "execution_count": 18,
   "metadata": {},
   "outputs": [],
   "source": [
    "def loadToken(name):\n",
    "    tokenizer = pickle.load(open(name + '_tokenizer.pkl', 'rb'))\n",
    "    return tokenizer\n",
    "\n",
    "def loadSequences(name):\n",
    "    file = open(name+'_sequences.txt', 'r', encoding = \"utf-8\")\n",
    "    text = file.read()\n",
    "    file.close()\n",
    "    return text\n",
    "\n",
    "def generateQuotes(name, wordCount, quoteCount):\n",
    "    tokenizer = loadToken(name)\n",
    "    lines = loadSequences(name)\n",
    "    lines = lines.split('\\n')\n",
    "    sequences = tokenizer.texts_to_sequences(lines)\n",
    "    sequences = np.array(sequences)\n",
    "    X, y = sequences[:,:-1], sequences[:,-1]\n",
    "    seq_length = X.shape[1]\n",
    "    model = load_model(name + '_char_word_model.h5')\n",
    "    for i in range(0, quoteCount):\n",
    "        seed_text = lines[np.random.randint(0,len(lines))]\n",
    "        result = list()\n",
    "        for _ in range(wordCount):\n",
    "            # encode the text as integer\n",
    "            encoded = tokenizer.texts_to_sequences([seed_text])[0]\n",
    "            # truncate sequences to a fixed length\n",
    "            encoded = pad_sequences([encoded], maxlen=seq_length, truncating='pre')\n",
    "            # predict probabilities for each word\n",
    "            yhat = model.predict_classes(encoded, verbose=0)\n",
    "            # map predicted word index to word\n",
    "            out_word = ''\n",
    "            for word, index in tokenizer.word_index.items():\n",
    "                if index == yhat:\n",
    "                    out_word = word\n",
    "                    break\n",
    "            # append to input\n",
    "            seed_text += ' ' + out_word\n",
    "            result.append(out_word)\n",
    "        final = ' '.join(result)\n",
    "        print(f'{name}: \"{final}\"')\n",
    "        filename = \"0_Results/\" + name + \".txt\"\n",
    "        file = open(filename, 'a', encoding = 'utf-8')\n",
    "        file.write(\"-\" + final + \"\\n\")"
   ]
  },
  {
   "cell_type": "code",
   "execution_count": 25,
   "metadata": {},
   "outputs": [
    {
     "name": "stdout",
     "output_type": "stream",
     "text": [
      "DAVID: \"the world youve had peeled how can you be walking once i dont think about the wings work to is\"\n",
      "DAVID: \"prison her lives im anyone make it always either back is that time i dont think i dont know joseph\"\n",
      "DAVID: \"weve started being a little more civil to each other right back in a packed theater of egotistical jesus if\"\n",
      "DAVID: \"and eat ass thats the dbongo motto i cuff that a result i was the chef as was its a\"\n",
      "DAVID: \"the place ive the song i couldve insane than well yeah are to official kick yasuo i have deduced the\"\n"
     ]
    }
   ],
   "source": [
    "generateQuotes(\"DAVID\", 20, 5)"
   ]
  },
  {
   "cell_type": "code",
   "execution_count": 26,
   "metadata": {},
   "outputs": [
    {
     "name": "stdout",
     "output_type": "stream",
     "text": [
      "DIEGO: \"i just stick to the riot games hq for the winners finally bjergsen electro wait jarvan consider to understand a\"\n",
      "DIEGO: \"understand the whole process of ive been depressed to another gives mmk coo the good escaping edited previous message i\"\n",
      "DIEGO: \"king from i can get to be around me i dont think that to ban the whole game inflate out\"\n",
      "DIEGO: \"keeping to myself for the standalone chest and key my portion of our life one wait i know you mean\"\n",
      "DIEGO: \"i can be to curious with shave for the roast screen i agree the lore i just realized that im\"\n"
     ]
    }
   ],
   "source": [
    "generateQuotes(\"DIEGO\", 20, 5)"
   ]
  },
  {
   "cell_type": "code",
   "execution_count": null,
   "metadata": {},
   "outputs": [],
   "source": []
  }
 ],
 "metadata": {
  "kernelspec": {
   "display_name": "Python 3",
   "language": "python",
   "name": "python3"
  },
  "language_info": {
   "codemirror_mode": {
    "name": "ipython",
    "version": 3
   },
   "file_extension": ".py",
   "mimetype": "text/x-python",
   "name": "python",
   "nbconvert_exporter": "python",
   "pygments_lexer": "ipython3",
   "version": "3.7.4"
  }
 },
 "nbformat": 4,
 "nbformat_minor": 4
}
