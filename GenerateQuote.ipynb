{
 "cells": [
  {
   "cell_type": "code",
   "execution_count": 8,
   "metadata": {},
   "outputs": [],
   "source": [
    "import pickle\n",
    "import pandas as pd\n",
    "import numpy as np\n",
    "import string, os \n",
    "import warnings\n",
    "import h5py\n",
    "import datetime\n",
    "\n",
    "from tensorflow.keras.preprocessing.text import Tokenizer\n",
    "from tensorflow.keras.preprocessing.sequence import pad_sequences\n",
    "from numpy import loadtxt\n",
    "from tensorflow.keras.models import load_model\n",
    "#model = load_model('name.h5')\n",
    "\n",
    "from numpy.random import seed\n",
    "import tensorflow\n",
    "#tensorflow.random.set_seed(4)\n",
    "#seed(20) - original seeds\n",
    "tensorflow.random.set_seed(int(datetime.datetime.utcnow().timestamp()))\n",
    "seed(int(datetime.datetime.utcnow().timestamp()))\n",
    "os.chdir(\"../quoteAIsData\")\n",
    "names = [\"DAVID\", \"DIEGO\", \"ERIC\", \"GWYN\", \"JETT\", \"MARS\", \"MILES\", \"MILO\", \"PARSA\"]"
   ]
  },
  {
   "cell_type": "code",
   "execution_count": 9,
   "metadata": {},
   "outputs": [],
   "source": [
    "def loadToken(name):\n",
    "    tokenizer = pickle.load(open(name + '_tokenizer.pkl', 'rb'))\n",
    "    return tokenizer\n",
    "\n",
    "def loadSequences(name):\n",
    "    file = open(name+'_sequences.txt', 'r', encoding = \"utf-8\")\n",
    "    text = file.read()\n",
    "    file.close()\n",
    "    return text\n",
    "\n",
    "def generateQuotes(name, wordCount, quoteCount):\n",
    "    tokenizer = loadToken(name)\n",
    "    lines = loadSequences(name)\n",
    "    lines = lines.split('\\n')\n",
    "    sequences = tokenizer.texts_to_sequences(lines)\n",
    "    sequences = np.array(sequences)\n",
    "    X, y = sequences[:,:-1], sequences[:,-1]\n",
    "    seq_length = X.shape[1]\n",
    "    model = load_model(name + '_char_word_model.h5')\n",
    "    for i in range(0, quoteCount):\n",
    "        seed_text = lines[np.random.randint(0,len(lines))]\n",
    "        result = list()\n",
    "        for _ in range(wordCount):\n",
    "            # encode the text as integer\n",
    "            encoded = tokenizer.texts_to_sequences([seed_text])[0]\n",
    "            # truncate sequences to a fixed length\n",
    "            encoded = pad_sequences([encoded], maxlen=seq_length, truncating='pre')\n",
    "            # predict probabilities for each word\n",
    "            yhat = model.predict_classes(encoded, verbose=0)\n",
    "            # map predicted word index to word\n",
    "            out_word = ''\n",
    "            for word, index in tokenizer.word_index.items():\n",
    "                if index == yhat:\n",
    "                    out_word = word\n",
    "                    break\n",
    "            # append to input\n",
    "            seed_text += ' ' + out_word\n",
    "            result.append(out_word)\n",
    "        final = ' '.join(result)\n",
    "        print(f'{name}: \"{final}\"')\n",
    "        filename = \"0_Results/\" + name + \".txt\"\n",
    "        file = open(filename, 'a', encoding = 'utf-8')\n",
    "        file.write(\"-\" + final + \"\\n\")"
   ]
  },
  {
   "cell_type": "code",
   "execution_count": 13,
   "metadata": {},
   "outputs": [
    {
     "name": "stdout",
     "output_type": "stream",
     "text": [
      "DAVID: \"me of repeated he not catch their it what a same one edited previous message i dont know why are it of the tempo would t be a troll pick\"\n",
      "DAVID: \"have no section beams its been a superior as a chef as to as well its not i can miss league in the argument you were very of her of\"\n",
      "DAVID: \"shit im down i know anything theres a christian magic pro in there the different hero in shitposting socialstudies subjects i just trying to held your inversion in the thief\"\n",
      "DAVID: \"make a ride and yeah i know about ant i have to do laundry put it was i meant what i dont know whether i cant tryna sub i was\"\n",
      "DAVID: \"of the other shorts are this video in peoples deck and the energy and it is my favorite of the point of point there wont be y i dont have\"\n",
      "DAVID: \"on twitch metrics night how was the most video for his children during moving been i love i dont know what anyones bad and i was trying to say the\"\n",
      "DAVID: \"trojans omegalul thats somewhat warlike i look at her family on it its a g s i noticed the bus is then bad shamalayan b yikes to randos up much\"\n",
      "DAVID: \"invade academic matters and the spin xd no song was was many i love to make her word capcom im i can know i dont know what happened you the\"\n",
      "DAVID: \"memes ive still e z y j i b a e the way she moves cancer whats again i just just hit that czech relevant thing we appeal to claw\"\n",
      "DAVID: \"has y d y s k a top thing before theres a miracle i was able to get no picture then boyardee rip the song was wipes i would have\"\n"
     ]
    }
   ],
   "source": [
    "generateQuotes(\"DAVID\", 30, 10)"
   ]
  },
  {
   "cell_type": "code",
   "execution_count": 11,
   "metadata": {},
   "outputs": [
    {
     "name": "stdout",
     "output_type": "stream",
     "text": [
      "DIEGO: \"machine broke eggcellent out for artifact of ax i knew it know that ok i can want to play out\"\n",
      "DIEGO: \"digbo knows but this play on his screams edited previous message i ハ ｖ i was awoken to run more\"\n",
      "DIEGO: \"legends im over i dont genuinely recommend that the trending part for the asian concise budget to manage in existence\"\n",
      "DIEGO: \"told me now i dont genuinely recommend it i am the lot or the dark icon for our placement guys\"\n",
      "DIEGO: \"im interested in participating for i think you can play on i didnt be to listening to the megalovania song\"\n",
      "DIEGO: \"of broccoli kicked in my door is a shotgun and redeem i drew temmie lilypichus discord champion i dont want\"\n",
      "DIEGO: \"ｏｒ ａｓｓａｕｌｔ ａｎｄ ｂａｔｔｅｒｙ ｌｉｋｅ ｙｏｕ ｍａｄｅ ｄｅｎｔｉｎｇ ｂｌｏｗｓ ｄｅｎｔｉｎｇ ｂｌｏｗｓ ｌｉｋｅ ｙｏｕ ａｓｓａｕｌｔｅｄ ｙｏｕｒ ｂｌｏｗｓ defender ｙｏｕ whats outdoor\"\n",
      "DIEGO: \"destructive me i dont think that janna youve can i blame me i can like the ending of wol im\"\n",
      "DIEGO: \"with the chain fap notlikethis i can want to get to drink before though legends preaching huang for the same\"\n",
      "DIEGO: \"for hrs to go get it going to show bobs and vagene edited previous message fire i l the number\"\n"
     ]
    }
   ],
   "source": [
    "generateQuotes(\"DIEGO\", 20, 10)"
   ]
  },
  {
   "cell_type": "code",
   "execution_count": null,
   "metadata": {},
   "outputs": [],
   "source": []
  }
 ],
 "metadata": {
  "kernelspec": {
   "display_name": "Python 3",
   "language": "python",
   "name": "python3"
  },
  "language_info": {
   "codemirror_mode": {
    "name": "ipython",
    "version": 3
   },
   "file_extension": ".py",
   "mimetype": "text/x-python",
   "name": "python",
   "nbconvert_exporter": "python",
   "pygments_lexer": "ipython3",
   "version": "3.7.4"
  }
 },
 "nbformat": 4,
 "nbformat_minor": 4
}
